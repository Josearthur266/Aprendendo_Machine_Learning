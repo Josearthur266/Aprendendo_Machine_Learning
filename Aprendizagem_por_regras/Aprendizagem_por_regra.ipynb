{
 "cells": [
  {
   "cell_type": "markdown",
   "metadata": {},
   "source": [
    "# Aprendizagem por regras"
   ]
  },
  {
   "cell_type": "markdown",
   "metadata": {},
   "source": [
    "$\\quad$ Basicamente a partir de uma base de dados o algoritmo irá gerar regras para classificação dos dados. Inicialmente usaremos o algoritmo _OneR_, o qual irá criar apenas uma regra."
   ]
  },
  {
   "cell_type": "markdown",
   "metadata": {},
   "source": [
    "## 1. Algoritmo _OneR_"
   ]
  },
  {
   "cell_type": "markdown",
   "metadata": {},
   "source": [
    "$\\quad$ Nesse algoritmo apenas um atributo dos dados para criar a regra, de preferência, que seja o atributo com menor erro."
   ]
  }
 ],
 "metadata": {
  "language_info": {
   "name": "python"
  }
 },
 "nbformat": 4,
 "nbformat_minor": 2
}
