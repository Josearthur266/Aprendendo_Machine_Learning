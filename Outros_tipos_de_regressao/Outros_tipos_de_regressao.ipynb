{
 "cells": [
  {
   "cell_type": "markdown",
   "id": "d57d6ad2",
   "metadata": {},
   "source": [
    "# Outros tipos de Regressão"
   ]
  },
  {
   "cell_type": "markdown",
   "id": "d9572707",
   "metadata": {},
   "source": [
    "$\\quad$ Esse tipo de regressão é utilizado para dados que não são linearmente separáveis. Normalmente podemos aplicar nesses caso a regressão polinomial para resolver esses problemas."
   ]
  }
 ],
 "metadata": {
  "language_info": {
   "name": "python"
  }
 },
 "nbformat": 4,
 "nbformat_minor": 5
}
