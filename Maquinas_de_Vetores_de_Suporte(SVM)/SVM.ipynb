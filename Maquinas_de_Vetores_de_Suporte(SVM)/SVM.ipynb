{
 "cells": [
  {
   "cell_type": "markdown",
   "metadata": {},
   "source": [
    "# Máquinas de Vetores de Suporte (SVM)"
   ]
  },
  {
   "cell_type": "markdown",
   "metadata": {},
   "source": [
    "$\\quad$ Em geral supera outros algoritmos de aprendizagem de máquina. Esse algoritmo é muito utilizado em tarefas complexas, como reconhecimento de carateres, voz, imagens, entre outros. Foi considerado por muito tempo o algoritmo o mais eficiente.\n",
    "\n",
    "$\\quad$ O objetivo deste algoritmo é aprender hiperplanos de peração com margem máxima."
   ]
  }
 ],
 "metadata": {
  "language_info": {
   "name": "python"
  }
 },
 "nbformat": 4,
 "nbformat_minor": 2
}
