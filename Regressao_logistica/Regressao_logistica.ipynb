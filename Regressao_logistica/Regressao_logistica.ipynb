{
 "cells": [
  {
   "cell_type": "markdown",
   "metadata": {},
   "source": [
    "# Regressão Logística"
   ]
  },
  {
   "cell_type": "markdown",
   "metadata": {},
   "source": [
    "$\\quad$ Há vários métodos preditivos, até agora vimos apenas apenas métodos de classificação, agora trataremos do método de regressão. A classificação ela visa prever uma classe para o dado, a regressão tem como objetivo prever algum valor, por exemplo, a quantidade de crédito.\n",
    "\n",
    "$\\quad$ Há várias maneiras de aplicar a regressão logística, neste `Notebook` iremos aplicar com uma função sigmoide. Ela pode ser usada com uma função lienar, mas ela não tem uma precisão boa. A função sigmoid possui a seguinte forma:"
   ]
  },
  {
   "cell_type": "markdown",
   "metadata": {},
   "source": [
    "$$p = \\frac{1}{1+e^{-y}}$$"
   ]
  },
  {
   "cell_type": "markdown",
   "metadata": {},
   "source": [
    "em que $e$ é o número de Euler, esse $y$ é uma reta, $y = b_0 +b_1x$, e após isso aplicar uma transformação \"logit\":"
   ]
  },
  {
   "cell_type": "markdown",
   "metadata": {},
   "source": [
    "$$log(\\frac{p}{1-p}) = b_0 + b_1x$$"
   ]
  },
  {
   "cell_type": "markdown",
   "metadata": {},
   "source": []
  }
 ],
 "metadata": {
  "language_info": {
   "name": "python"
  }
 },
 "nbformat": 4,
 "nbformat_minor": 2
}
