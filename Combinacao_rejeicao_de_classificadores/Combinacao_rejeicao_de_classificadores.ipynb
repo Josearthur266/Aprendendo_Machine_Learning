{
 "cells": [
  {
   "cell_type": "markdown",
   "id": "8d4643d1",
   "metadata": {},
   "source": [
    "## Combinação de Classificadores"
   ]
  },
  {
   "cell_type": "markdown",
   "id": "c6c443ee",
   "metadata": {},
   "source": [
    "Ao fazer a avaliação dos algoritmos, e vermos osmelhores algoritmos para serem utilizados na quela base d edados, podemos em vez de usar apenas um podemos usar mais de um. De maneira que um complemente o outro."
   ]
  },
  {
   "cell_type": "code",
   "execution_count": 5,
   "id": "aa320e61",
   "metadata": {},
   "outputs": [],
   "source": [
    "import pickle\n",
    "import numpy as np\n",
    "from sklearn.tree import DecisionTreeClassifier #árovore de decisão\n",
    "from sklearn.svm import SVC #SVM\n",
    "from sklearn.neural_network import MLPClassifier #Redes Neurais"
   ]
  },
  {
   "cell_type": "code",
   "execution_count": 6,
   "id": "156996f6",
   "metadata": {},
   "outputs": [],
   "source": [
    "with open('credit.pkl', 'rb') as f:\n",
    "    x_credit_treinamento, y_credit_treinamento, x_credit_teste, y_credit_teste = pickle.load(f)"
   ]
  },
  {
   "cell_type": "code",
   "execution_count": 7,
   "id": "dd18e587",
   "metadata": {},
   "outputs": [],
   "source": [
    "x_credit = np.concatenate((x_credit_treinamento, x_credit_teste), axis=0)\n",
    "y_credit = np.concatenate((y_credit_treinamento, y_credit_teste), axis=0)"
   ]
  },
  {
   "cell_type": "code",
   "execution_count": 34,
   "id": "75cd506d",
   "metadata": {},
   "outputs": [
    {
     "data": {
      "text/plain": [
       "(array([[-1.03572293, -0.93978122,  0.04244312]]), (1, 3))"
      ]
     },
     "execution_count": 34,
     "metadata": {},
     "output_type": "execute_result"
    }
   ],
   "source": [
    "novo_registro = x_credit[1999]\n",
    "novo_registro = novo_registro.reshape(1, -1)\n",
    "novo_registro, novo_registro.shape"
   ]
  },
  {
   "cell_type": "code",
   "execution_count": 35,
   "id": "5ea1d977",
   "metadata": {},
   "outputs": [],
   "source": [
    "rede_neural = pickle.load(open('rede_neural_finalizado.sav', 'rb'))\n",
    "arvore = pickle.load(open('arvore_finalizado.sav', 'rb'))\n",
    "svm = pickle.load(open('svm_finalizado.sav', 'rb'))"
   ]
  },
  {
   "cell_type": "code",
   "execution_count": 36,
   "id": "9caa0971",
   "metadata": {},
   "outputs": [],
   "source": [
    "resposta_rede_neural = rede_neural.predict(novo_registro)\n",
    "resposta_arvore = arvore.predict(novo_registro)\n",
    "resposta_svm = svm.predict(novo_registro)"
   ]
  },
  {
   "cell_type": "code",
   "execution_count": 37,
   "id": "34845284",
   "metadata": {},
   "outputs": [
    {
     "data": {
      "text/plain": [
       "(1, 1, 1)"
      ]
     },
     "execution_count": 37,
     "metadata": {},
     "output_type": "execute_result"
    }
   ],
   "source": [
    "resposta_rede_neural[0], resposta_arvore[0], resposta_svm[0]"
   ]
  },
  {
   "cell_type": "code",
   "execution_count": 38,
   "id": "fb646563",
   "metadata": {},
   "outputs": [
    {
     "name": "stdout",
     "output_type": "stream",
     "text": [
      "Cliente não pagará o emprétimo\n"
     ]
    }
   ],
   "source": [
    "paga = 0\n",
    "nao_paga = 0\n",
    "\n",
    "if resposta_rede_neural[0] == 1:\n",
    "    nao_paga += 1\n",
    "else:\n",
    "    paga += 1\n",
    "\n",
    "if resposta_arvore[0] == 1:\n",
    "    nao_paga += 1\n",
    "else:\n",
    "    paga += 1\n",
    "\n",
    "if resposta_svm[0] == 1:\n",
    "    nao_paga += 1\n",
    "\n",
    "else:\n",
    "    paga += 1\n",
    "\n",
    "if paga > nao_paga:\n",
    "    print('Cliente pagará o empréstimo')\n",
    "elif paga == nao_paga:\n",
    "    print('Empate')\n",
    "else:\n",
    "    print('Cliente não pagará o emprétimo')"
   ]
  },
  {
   "cell_type": "markdown",
   "id": "0397bd3e",
   "metadata": {},
   "source": [
    "## Rejeição de Classificadores"
   ]
  },
  {
   "cell_type": "code",
   "execution_count": 39,
   "id": "bc455353",
   "metadata": {},
   "outputs": [
    {
     "data": {
      "text/plain": [
       "array([[1.14528685e-04, 9.99885471e-01]])"
      ]
     },
     "execution_count": 39,
     "metadata": {},
     "output_type": "execute_result"
    }
   ],
   "source": [
    "probabilidade_rede_neural = rede_neural.predict_proba(novo_registro)\n",
    "probabilidade_rede_neural"
   ]
  },
  {
   "cell_type": "code",
   "execution_count": 40,
   "id": "5777ee70",
   "metadata": {},
   "outputs": [
    {
     "data": {
      "text/plain": [
       "0.9998854713151598"
      ]
     },
     "execution_count": 40,
     "metadata": {},
     "output_type": "execute_result"
    }
   ],
   "source": [
    "confianca_rede_neural = probabilidade_rede_neural.max()\n",
    "confianca_rede_neural"
   ]
  },
  {
   "cell_type": "code",
   "execution_count": 41,
   "id": "2eaefd6f",
   "metadata": {},
   "outputs": [
    {
     "data": {
      "text/plain": [
       "1.0"
      ]
     },
     "execution_count": 41,
     "metadata": {},
     "output_type": "execute_result"
    }
   ],
   "source": [
    "probabilidade_arvore = arvore.predict_proba(novo_registro)\n",
    "confianca_arvore = probabilidade_arvore.max()\n",
    "confianca_arvore"
   ]
  },
  {
   "cell_type": "code",
   "execution_count": 42,
   "id": "783878a6",
   "metadata": {},
   "outputs": [],
   "source": [
    "classificador_svm = SVC(C = 2.0, kernel = 'rbf', probability=True)\n",
    "classificador_svm.fit(x_credit, y_credit)\n",
    "\n",
    "pickle.dump(classificador_svm, open('svm_finalizado.sav', 'wb'))\n",
    "svm = pickle.load(open('svm_finalizado.sav', 'rb'))"
   ]
  },
  {
   "cell_type": "code",
   "execution_count": 43,
   "id": "5f11d312",
   "metadata": {},
   "outputs": [
    {
     "data": {
      "text/plain": [
       "0.9931937760082864"
      ]
     },
     "execution_count": 43,
     "metadata": {},
     "output_type": "execute_result"
    }
   ],
   "source": [
    "probabilidade_svm = svm.predict_proba(novo_registro)\n",
    "confianca_svm = probabilidade_svm.max()\n",
    "confianca_svm"
   ]
  },
  {
   "cell_type": "code",
   "execution_count": 44,
   "id": "7e1d3e8e",
   "metadata": {},
   "outputs": [
    {
     "name": "stdout",
     "output_type": "stream",
     "text": [
      "Cliente não pagará o emprétimo, baeado em 1 algoritmos\n"
     ]
    }
   ],
   "source": [
    "paga = 0\n",
    "nao_paga = 0\n",
    "confianca_minima = 0.999999\n",
    "algoritmos = 0\n",
    "if confianca_rede_neural >= confianca_minima:\n",
    "    algoritmos += 1\n",
    "    if resposta_rede_neural[0] == 1:\n",
    "        nao_paga += 1\n",
    "    else:\n",
    "        paga += 1\n",
    "\n",
    "if confianca_arvore >= confianca_minima:\n",
    "    algoritmos += 1\n",
    "    if resposta_arvore[0] == 1:\n",
    "        nao_paga += 1\n",
    "    else:\n",
    "        paga += 1\n",
    "\n",
    "if confianca_svm >= confianca_minima:\n",
    "    algoritmos += 1\n",
    "    if resposta_svm[0] == 1:\n",
    "        nao_paga += 1\n",
    "\n",
    "    else:\n",
    "        paga += 1\n",
    "\n",
    "if paga > nao_paga:\n",
    "    print('Cliente pagará o empréstimo, baeado em {} algoritmos'.format(algoritmos))\n",
    "elif paga == nao_paga:\n",
    "    print('Empate, baeado em {} algoritmos'.format(algoritmos))\n",
    "else:\n",
    "    print('Cliente não pagará o emprétimo, baeado em {} algoritmos'.format(algoritmos))"
   ]
  },
  {
   "cell_type": "code",
   "execution_count": null,
   "id": "9bde3822",
   "metadata": {},
   "outputs": [],
   "source": []
  }
 ],
 "metadata": {
  "kernelspec": {
   "display_name": "Python 3",
   "language": "python",
   "name": "python3"
  },
  "language_info": {
   "codemirror_mode": {
    "name": "ipython",
    "version": 3
   },
   "file_extension": ".py",
   "mimetype": "text/x-python",
   "name": "python",
   "nbconvert_exporter": "python",
   "pygments_lexer": "ipython3",
   "version": "3.11.9"
  }
 },
 "nbformat": 4,
 "nbformat_minor": 5
}
